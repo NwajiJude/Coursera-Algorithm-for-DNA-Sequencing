{
 "cells": [
  {
   "cell_type": "code",
   "execution_count": 1,
   "id": "441f52af",
   "metadata": {},
   "outputs": [
    {
     "name": "stderr",
     "output_type": "stream",
     "text": [
      "--2024-01-21 17:37:04--  https://d28rh4a8wq0iu5.cloudfront.net/ads1/data/lambda_virus.fa\n",
      "Resolving d28rh4a8wq0iu5.cloudfront.net (d28rh4a8wq0iu5.cloudfront.net)... 13.224.78.157, 13.224.78.56, 13.224.78.175, ...\n",
      "Connecting to d28rh4a8wq0iu5.cloudfront.net (d28rh4a8wq0iu5.cloudfront.net)|13.224.78.157|:443... connected.\n",
      "HTTP request sent, awaiting response... 200 OK\n",
      "Length: 49270 (48K) [application/octet-stream]\n",
      "Saving to: 'lambda_virus.fa.1'\n",
      "\n",
      "     0K .......... .......... .......... .......... ........  100% 3.02M=0.02s\n",
      "\n",
      "2024-01-21 17:37:04 (3.02 MB/s) - 'lambda_virus.fa.1' saved [49270/49270]\n",
      "\n"
     ]
    }
   ],
   "source": [
    "!wget --no-check https://d28rh4a8wq0iu5.cloudfront.net/ads1/data/lambda_virus.fa"
   ]
  },
  {
   "cell_type": "code",
   "execution_count": 2,
   "id": "91df9286",
   "metadata": {},
   "outputs": [],
   "source": [
    "def readGenome(filename):\n",
    "    #genome = \"\"\n",
    "    with open(filename, \"r\") as f:\n",
    "        genome = ''.join(line.rstrip() for line in f if line[0] != '>')\n",
    "    return genome"
   ]
  },
  {
   "cell_type": "code",
   "execution_count": 3,
   "id": "68cae142",
   "metadata": {},
   "outputs": [
    {
     "name": "stdout",
     "output_type": "stream",
     "text": [
      "GGGCGGCGACCTCGCGGGTTTTCGCTATTTATGAAAATTTTCCGGTTTAAGGCGTTTCCGTTCTTCTTCGTCATAACTTAATGTTTTTATTTAAAATACC\n"
     ]
    }
   ],
   "source": [
    "geno = readGenome('lambda_virus.fa')\n",
    "print (geno[:100])"
   ]
  },
  {
   "cell_type": "code",
   "execution_count": 4,
   "id": "05718afd",
   "metadata": {},
   "outputs": [
    {
     "name": "stdout",
     "output_type": "stream",
     "text": [
      "48502\n"
     ]
    }
   ],
   "source": [
    "print(len(geno))"
   ]
  },
  {
   "cell_type": "code",
   "execution_count": 5,
   "id": "81c95ef6",
   "metadata": {},
   "outputs": [
    {
     "name": "stdout",
     "output_type": "stream",
     "text": [
      "QUESTION 1: The total number of occurrences of AGGT or its reverse complement (ACCT) is: 306\n"
     ]
    }
   ],
   "source": [
    "def reverseComplement(sequence):\n",
    "    complement_dict = {'A': 'T', 'T': 'A', 'C': 'G', 'G': 'C'}\n",
    "    return ''.join(complement_dict[base] for base in reversed(sequence))\n",
    "\n",
    "def countOccurrences(genome, pattern):\n",
    "    count = 0\n",
    "    pattern_len = len(pattern)\n",
    "    \n",
    "    for i in range(len(genome) - pattern_len + 1):\n",
    "        if genome[i:i+pattern_len] == pattern:\n",
    "            count += 1\n",
    "\n",
    "    return count\n",
    "\n",
    "# Define the pattern and its reverse complement\n",
    "pattern = \"AGGT\"\n",
    "reverse_complement_pattern = reverseComplement(pattern)\n",
    "\n",
    "# Count occurrences of the pattern and its reverse complement\n",
    "occurrences = countOccurrences(geno, pattern) + countOccurrences(geno, reverse_complement_pattern)\n",
    "\n",
    "print(f\"QUESTION 1: The total number of occurrences of AGGT or its reverse complement (ACCT) is: {occurrences}\")"
   ]
  },
  {
   "cell_type": "code",
   "execution_count": 6,
   "id": "763eb79b",
   "metadata": {},
   "outputs": [
    {
     "name": "stdout",
     "output_type": "stream",
     "text": [
      "QUESTION 2: The total number of occurrences of TTAA or its reverse complement is: 195\n"
     ]
    }
   ],
   "source": [
    "# Define the pattern \"TTAA\"\n",
    "pattern = \"TTAA\"\n",
    "\n",
    "# Count occurrences of the pattern in the genome\n",
    "occurrences = countOccurrences(geno, pattern)\n",
    "\n",
    "print(f\"QUESTION 2: The total number of occurrences of TTAA or its reverse complement is: {occurrences}\")"
   ]
  },
  {
   "cell_type": "code",
   "execution_count": 7,
   "id": "50ba2628",
   "metadata": {},
   "outputs": [
    {
     "name": "stdout",
     "output_type": "stream",
     "text": [
      "QUESTION 3: The offset of the leftmost occurrence of ACTAAGT or its reverse complement is: 26028\n"
     ]
    }
   ],
   "source": [
    "def findOffset(genome, pattern):\n",
    "    pattern_len = len(pattern)\n",
    "\n",
    "    for i in range(len(genome) - pattern_len + 1):\n",
    "        if genome[i:i+pattern_len] == pattern:\n",
    "            return i\n",
    "\n",
    "    return -1  # Return -1 if the pattern is not found\n",
    "\n",
    "# Define the pattern \"ACTAAGT\" and its reverse complement\n",
    "pattern = \"ACTAAGT\"\n",
    "reverse_complement_pattern = reverseComplement(pattern)\n",
    "\n",
    "# Find the offset of the leftmost occurrence of the pattern or its reverse complement\n",
    "offset = min(findOffset(geno, pattern), findOffset(geno, reverse_complement_pattern))\n",
    "\n",
    "print(f\"QUESTION 3: The offset of the leftmost occurrence of ACTAAGT or its reverse complement is: {offset}\")                            "
   ]
  },
  {
   "cell_type": "code",
   "execution_count": 8,
   "id": "f8460a9d",
   "metadata": {},
   "outputs": [
    {
     "name": "stdout",
     "output_type": "stream",
     "text": [
      "QUESTION 4: The offset of the leftmost occurrence of AGTCGA or its reverse complement is: 450\n"
     ]
    }
   ],
   "source": [
    "# Define the pattern \"AGTCGA\" and its reverse complement\n",
    "pattern = \"AGTCGA\"\n",
    "reverse_complement_pattern = reverseComplement(pattern)\n",
    "\n",
    "# Find the offset of the leftmost occurrence of the pattern or its reverse complement\n",
    "offset = min(findOffset(geno, pattern), findOffset(geno, reverse_complement_pattern))\n",
    "\n",
    "print(f\"QUESTION 4: The offset of the leftmost occurrence of AGTCGA or its reverse complement is: {offset}\")"
   ]
  },
  {
   "cell_type": "code",
   "execution_count": 9,
   "id": "66685422",
   "metadata": {},
   "outputs": [
    {
     "name": "stdout",
     "output_type": "stream",
     "text": [
      "QUESTION 5: The number of occurrences of TTCAAGCC with up to 2 mismatches is: 191\n"
     ]
    }
   ],
   "source": [
    "def naive_2mm(pattern, text):\n",
    "    occurrences = []\n",
    "    pattern_len = len(pattern)\n",
    "    text_len = len(text)\n",
    "    \n",
    "    for i in range(text_len - pattern_len + 1):\n",
    "        mismatch_count = 0\n",
    "        \n",
    "        for j in range(pattern_len):\n",
    "            if text[i+j] != pattern[j]:\n",
    "                mismatch_count += 1\n",
    "                if mismatch_count > 2:\n",
    "                    break  # Break if the number of mismatches exceeds 2\n",
    "        \n",
    "        if mismatch_count <= 2:\n",
    "            occurrences.append(i)\n",
    "\n",
    "    return occurrences\n",
    "\n",
    "# Define the pattern \"TTCAAGCC\"\n",
    "pattern_to_find = \"TTCAAGCC\"\n",
    "\n",
    "# Find occurrences with up to 2 mismatches\n",
    "occurrences_2mm = naive_2mm(pattern_to_find, geno)\n",
    "\n",
    "# Print the number of occurrences\n",
    "print(f\"QUESTION 5: The number of occurrences of TTCAAGCC with up to 2 mismatches is: {len(occurrences_2mm)}\")"
   ]
  },
  {
   "cell_type": "code",
   "execution_count": 10,
   "id": "47c8d782",
   "metadata": {},
   "outputs": [
    {
     "name": "stdout",
     "output_type": "stream",
     "text": [
      "QUESTION 6: The offset of the leftmost occurrence of AGGAGGTT with up to 2 mismatches is: 49\n"
     ]
    }
   ],
   "source": [
    "# Define the pattern \"AGGAGGTT\"\n",
    "pattern_to_find = \"AGGAGGTT\"\n",
    "\n",
    "# Find occurrences with up to 2 mismatches\n",
    "occurrences_2mm = naive_2mm(pattern_to_find, geno)\n",
    "\n",
    "# Check if any occurrences were found\n",
    "if occurrences_2mm:\n",
    "    # Print the offset of the leftmost occurrence\n",
    "    leftmost_offset = min(occurrences_2mm)\n",
    "    print(f\"QUESTION 6: The offset of the leftmost occurrence of AGGAGGTT with up to 2 mismatches is: {leftmost_offset}\")\n",
    "else:\n",
    "    print(\"No occurrences found.\")\n"
   ]
  },
  {
   "cell_type": "code",
   "execution_count": 11,
   "id": "9bf87148",
   "metadata": {},
   "outputs": [
    {
     "name": "stderr",
     "output_type": "stream",
     "text": [
      "--2024-01-21 17:37:05--  https://d28rh4a8wq0iu5.cloudfront.net/ads1/data/ERR037900_1.first1000.fastq\n",
      "Resolving d28rh4a8wq0iu5.cloudfront.net (d28rh4a8wq0iu5.cloudfront.net)... 13.224.78.157, 13.224.78.56, 13.224.78.175, ...\n",
      "Connecting to d28rh4a8wq0iu5.cloudfront.net (d28rh4a8wq0iu5.cloudfront.net)|13.224.78.157|:443... connected.\n",
      "HTTP request sent, awaiting response... 200 OK\n",
      "Length: 241626 (236K) [application/octet-stream]\n",
      "Saving to: 'ERR037900_1.first1000.fastq.1'\n",
      "\n",
      "     0K .......... .......... .......... .......... .......... 21% 2.57M 0s\n",
      "    50K .......... .......... .......... .......... .......... 42% 5.54M 0s\n",
      "   100K .......... .......... .......... .......... .......... 63% 4.25M 0s\n",
      "   150K .......... .......... .......... .......... .......... 84% 6.03M 0s\n",
      "   200K .......... .......... .......... .....                100% 4.72M=0.05s\n",
      "\n",
      "2024-01-21 17:37:05 (4.20 MB/s) - 'ERR037900_1.first1000.fastq.1' saved [241626/241626]\n",
      "\n"
     ]
    }
   ],
   "source": [
    "!wget --no-check https://d28rh4a8wq0iu5.cloudfront.net/ads1/data/ERR037900_1.first1000.fastq"
   ]
  },
  {
   "cell_type": "code",
   "execution_count": 13,
   "id": "7b90e362",
   "metadata": {},
   "outputs": [
    {
     "name": "stdout",
     "output_type": "stream",
     "text": [
      "QUESTION 7: The problematic cycle is at offset: 66\n"
     ]
    }
   ],
   "source": [
    "from Bio import SeqIO\n",
    "import numpy as np\n",
    "\n",
    "# Function to calculate the mean quality score at each position\n",
    "def calculate_mean_quality(records):\n",
    "    seq_length = len(records[0].seq)\n",
    "    mean_quality = np.zeros(seq_length)\n",
    "    \n",
    "    for record in records:\n",
    "        for i, qual_score in enumerate(record.letter_annotations[\"phred_quality\"]):\n",
    "            mean_quality[i] += qual_score\n",
    "    \n",
    "    mean_quality /= len(records)\n",
    "    \n",
    "    return mean_quality\n",
    "\n",
    "# Function to identify the problematic cycle\n",
    "def identify_problematic_cycle(records):\n",
    "    mean_quality = calculate_mean_quality(records)\n",
    "    \n",
    "    # Find the cycle with the minimum mean quality\n",
    "    problematic_cycle = np.argmin(mean_quality)\n",
    "    \n",
    "    return problematic_cycle\n",
    "\n",
    "# Download and parse the FASTQ file\n",
    "filename = \"ERR037900_1.first1000.fastq\"\n",
    "records = list(SeqIO.parse(filename, \"fastq\"))\n",
    "\n",
    "# Identify the problematic cycle\n",
    "problematic_cycle = identify_problematic_cycle(records)\n",
    "\n",
    "# Print the result\n",
    "print(f\"QUESTION 7: The problematic cycle is at offset: {problematic_cycle}\")"
   ]
  },
  {
   "cell_type": "code",
   "execution_count": null,
   "id": "1ffef782",
   "metadata": {},
   "outputs": [],
   "source": []
  }
 ],
 "metadata": {
  "kernelspec": {
   "display_name": "Python 3 (ipykernel)",
   "language": "python",
   "name": "python3"
  },
  "language_info": {
   "codemirror_mode": {
    "name": "ipython",
    "version": 3
   },
   "file_extension": ".py",
   "mimetype": "text/x-python",
   "name": "python",
   "nbconvert_exporter": "python",
   "pygments_lexer": "ipython3",
   "version": "3.10.9"
  }
 },
 "nbformat": 4,
 "nbformat_minor": 5
}
